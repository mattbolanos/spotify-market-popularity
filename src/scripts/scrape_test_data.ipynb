{
 "cells": [
  {
   "cell_type": "markdown",
   "metadata": {},
   "source": [
    "## Scraping New Music Friday\n",
    "This notebook scrapes the Spotify New Music Friday playlist. We are collecting this to serve as a \"test\" dataset for our predictions model. Even though we will not have the popularity outcomes for these songs, we can still use these tracks to serve as example outputs for our model.\n",
    "\n",
    "*Note: This data was collected on 9/29/2023.*"
   ]
  },
  {
   "cell_type": "markdown",
   "metadata": {},
   "source": [
    "#### Set-Up"
   ]
  },
  {
   "cell_type": "code",
   "execution_count": 8,
   "metadata": {},
   "outputs": [],
   "source": [
    "# import libraries and functions\n",
    "import os\n",
    "from dotenv import load_dotenv\n",
    "from functions.spotify_api import SpotifyAPI\n",
    "import json"
   ]
  },
  {
   "cell_type": "code",
   "execution_count": 2,
   "metadata": {},
   "outputs": [],
   "source": [
    "# load secrets\n",
    "load_dotenv()\n",
    "client_id = os.getenv(\"CLIENT_ID\")\n",
    "client_secret = os.getenv(\"CLIENT_SECRET\")\n",
    "\n",
    "# init api\n",
    "spotify = SpotifyAPI(client_id=client_id, client_secret=client_secret)"
   ]
  },
  {
   "cell_type": "markdown",
   "metadata": {},
   "source": [
    "#### Request Playlist"
   ]
  },
  {
   "cell_type": "code",
   "execution_count": 3,
   "metadata": {},
   "outputs": [],
   "source": [
    "# get playlist\n",
    "playlist_id = \"37i9dQZF1DX4JAvHpjipBk\"\n",
    "playlist_res = spotify.request_playlist(playlist_id=playlist_id)"
   ]
  },
  {
   "cell_type": "markdown",
   "metadata": {},
   "source": [
    "#### Process Playlist Tracks"
   ]
  },
  {
   "cell_type": "code",
   "execution_count": 4,
   "metadata": {},
   "outputs": [
    {
     "name": "stdout",
     "output_type": "stream",
     "text": [
      "-- processing playlist: New Music Friday --\n"
     ]
    }
   ],
   "source": [
    "playlist_name = playlist_res[\"name\"]\n",
    "\n",
    "# init list\n",
    "tracks = []\n",
    "\n",
    "print(\"-- processing playlist: \" + playlist_name, \"--\")\n",
    "# extract tracks\n",
    "playlist_tracks = playlist_res[\"tracks\"][\"items\"]\n",
    "# loop through tracks\n",
    "for track in playlist_tracks:\n",
    "    # parse track\n",
    "    track_json = spotify.parse_playlist_track(track=track, playlist_id=playlist_id, playlist_name=playlist_name)\n",
    "    # append to list\n",
    "    tracks.append(track_json)"
   ]
  },
  {
   "cell_type": "markdown",
   "metadata": {},
   "source": [
    "#### Scrape Artists\n",
    "\n",
    "*Note: Takes a while to run*"
   ]
  },
  {
   "cell_type": "code",
   "execution_count": 5,
   "metadata": {},
   "outputs": [],
   "source": [
    "# get artist ids\n",
    "artist_ids = list(set([artist[\"id\"] for playlist in tracks for artist in playlist[\"artist_ids\"]]))\n",
    "\n",
    "# init list\n",
    "artists = []\n",
    "\n",
    "for artist_id in artist_ids:\n",
    "    artists.append(spotify.request_artist(artist_id=artist_id, silent=True))"
   ]
  },
  {
   "cell_type": "markdown",
   "metadata": {},
   "source": [
    "#### Scrape Audio Features\n",
    "\n",
    "*Note: Takes a while to run.*"
   ]
  },
  {
   "cell_type": "code",
   "execution_count": 6,
   "metadata": {},
   "outputs": [],
   "source": [
    "# get track ids\n",
    "track_ids = list(set([track[\"track_id\"] for track in tracks]))\n",
    "\n",
    "# init list\n",
    "audio_features = []\n",
    "\n",
    "for track_id in track_ids:\n",
    "    audio_features.append(spotify.request_audio_features(track_id=track_id, silent=True))"
   ]
  },
  {
   "cell_type": "markdown",
   "metadata": {},
   "source": [
    "#### Write Data Outputs"
   ]
  },
  {
   "cell_type": "code",
   "execution_count": 10,
   "metadata": {},
   "outputs": [],
   "source": [
    "# parent playlist\n",
    "with open(\"../../data/test_data/nmf_playlist.json\", \"w\") as f:\n",
    "    json.dump(tracks, f)\n",
    "\n",
    "# artists\n",
    "with open(\"../../data/test_data/nmf_artists.json\", \"w\") as f:\n",
    "    json.dump(artists, f)\n",
    "\n",
    "# audio features\n",
    "with open(\"../../data/test_data/nmf_audio_features.json\", \"w\") as f:\n",
    "    json.dump(audio_features, f)"
   ]
  }
 ],
 "metadata": {
  "kernelspec": {
   "display_name": "spotify-market-popularity-ul7xLCIY-py3.11",
   "language": "python",
   "name": "python3"
  },
  "language_info": {
   "codemirror_mode": {
    "name": "ipython",
    "version": 3
   },
   "file_extension": ".py",
   "mimetype": "text/x-python",
   "name": "python",
   "nbconvert_exporter": "python",
   "pygments_lexer": "ipython3",
   "version": "3.11.1"
  }
 },
 "nbformat": 4,
 "nbformat_minor": 2
}
