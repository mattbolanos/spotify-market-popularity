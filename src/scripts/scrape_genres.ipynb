{
 "cells": [
  {
   "cell_type": "markdown",
   "metadata": {},
   "source": [
    "### Scrape Chosic Sub-Genres\n",
    "This notebooks scrapes sub-genres derived from a site called Chosic. This site analyzed all of Spotify's sub-genres and mapped them to parent genres."
   ]
  },
  {
   "cell_type": "code",
   "execution_count": 1,
   "metadata": {},
   "outputs": [],
   "source": [
    "# import libraries\n",
    "from bs4 import BeautifulSoup\n",
    "import pandas as pd\n",
    "from selenium import webdriver"
   ]
  },
  {
   "cell_type": "markdown",
   "metadata": {},
   "source": [
    "#### Init Driver"
   ]
  },
  {
   "cell_type": "code",
   "execution_count": 2,
   "metadata": {},
   "outputs": [],
   "source": [
    "# scrape genres from chosic.com\n",
    "url = \"https://www.chosic.com/list-of-music-genres/\"\n",
    "\n",
    "# open the url\n",
    "driver = webdriver.Chrome()\n",
    "driver.get(url)"
   ]
  },
  {
   "cell_type": "code",
   "execution_count": 3,
   "metadata": {},
   "outputs": [],
   "source": [
    "# Get the page source\n",
    "page_source = driver.page_source\n",
    "\n",
    "# Parse the HTML content using Beautiful Soup\n",
    "soup = BeautifulSoup(page_source, \"html.parser\")"
   ]
  },
  {
   "cell_type": "markdown",
   "metadata": {},
   "source": [
    "#### Parse Sub-Genres"
   ]
  },
  {
   "cell_type": "code",
   "execution_count": 7,
   "metadata": {},
   "outputs": [],
   "source": [
    "# get parent genre objects\n",
    "parent_genres = soup.find_all(\"li\", {\"class\": \"genre-term-basic\"})\n",
    "parent_genres = [genre.text for genre in parent_genres]\n",
    "parent_genres = {f\"genre{i}\": genre for i, genre in enumerate(parent_genres)}\n",
    "\n",
    "# initialize dataframe\n",
    "all_genres = pd.DataFrame(columns=[\"sub_genre\", \"parent_genre\"])\n",
    "\n",
    "# loop through keys\n",
    "for genre in parent_genres.keys():\n",
    "    genre_name = parent_genres[genre]\n",
    "    # create data_parent by subbing out genre, turning to int and add one\n",
    "    data_parent = genre.replace(\"genre\", \"\")\n",
    "    data_parent = int(data_parent) + 1\n",
    "    # get each sub genre\n",
    "    subgenre_list = soup.find(\"ul\", {\"class\": \"ul-inside expandible\", \"data-parent\": data_parent})\n",
    "    # now we want to get the text for each li tag\n",
    "    subgenre_list = subgenre_list.find_all(\"li\", {\"class\": \"capital-letter genre-term\"})\n",
    "    # append text to dataframe with genre name\n",
    "    subgenre_list = [subgenre.text for subgenre in subgenre_list]\n",
    "    subgenre_list = pd.DataFrame(subgenre_list, columns=[\"sub_genre\"])\n",
    "    subgenre_list[\"parent_genre\"] = genre_name\n",
    "    # append to all_genres\n",
    "    all_genres = pd.concat([all_genres, subgenre_list])"
   ]
  },
  {
   "cell_type": "markdown",
   "metadata": {},
   "source": [
    "#### Write Data"
   ]
  },
  {
   "cell_type": "code",
   "execution_count": 5,
   "metadata": {},
   "outputs": [],
   "source": [
    "# close browser\n",
    "driver.close()"
   ]
  },
  {
   "cell_type": "code",
   "execution_count": 8,
   "metadata": {},
   "outputs": [],
   "source": [
    "# write dataframe to csv\n",
    "all_genres.to_csv(\"../../data/chosic_genres.csv\", index=False)"
   ]
  }
 ],
 "metadata": {
  "kernelspec": {
   "display_name": "spotify-market-popularity-ul7xLCIY-py3.11",
   "language": "python",
   "name": "python3"
  },
  "language_info": {
   "codemirror_mode": {
    "name": "ipython",
    "version": 3
   },
   "file_extension": ".py",
   "mimetype": "text/x-python",
   "name": "python",
   "nbconvert_exporter": "python",
   "pygments_lexer": "ipython3",
   "version": "3.11.1"
  }
 },
 "nbformat": 4,
 "nbformat_minor": 2
}
