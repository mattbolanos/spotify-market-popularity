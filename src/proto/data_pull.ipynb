{
 "cells": [
  {
   "cell_type": "code",
   "execution_count": 1,
   "metadata": {},
   "outputs": [],
   "source": [
    "# import libraries\n",
    "import spotipy\n",
    "from spotipy.oauth2 import SpotifyOAuth\n",
    "from dotenv import load_dotenv\n",
    "import os\n",
    "import json\n",
    "from selenium import webdriver\n",
    "from selenium.webdriver.common.by import By\n",
    "from selenium.webdriver.support.ui import WebDriverWait\n",
    "from selenium.webdriver.support import expected_conditions as EC\n",
    "\n",
    "import sys\n",
    "\n",
    "sys.path.append(\"../\")\n",
    "\n",
    "# load functions\n",
    "from functions.spotify_api import parse_playlist_track"
   ]
  },
  {
   "cell_type": "code",
   "execution_count": 2,
   "metadata": {},
   "outputs": [],
   "source": [
    "# read in secrets\n",
    "load_dotenv()\n",
    "client_id = os.getenv(\"CLIENT_ID\")\n",
    "client_secret = os.getenv(\"CLIENT_SECRET\")"
   ]
  },
  {
   "cell_type": "code",
   "execution_count": 3,
   "metadata": {},
   "outputs": [],
   "source": [
    "# authenticate\n",
    "sp = spotipy.Spotify(\n",
    "    auth_manager=SpotifyOAuth(\n",
    "        client_id=client_id,\n",
    "        client_secret=client_secret,\n",
    "        redirect_uri=\"http://localhost:3000\",\n",
    "        scope=\"user-library-read\",\n",
    "    )\n",
    ")"
   ]
  },
  {
   "cell_type": "code",
   "execution_count": 4,
   "metadata": {},
   "outputs": [],
   "source": [
    "# scrape playlists\n",
    "browser = webdriver.Chrome()\n",
    "browser.get(\"https://open.spotify.com/genre/section0JQ5DAzQHECxDlYNI6xD1h\")\n",
    "\n",
    "## USER NOTE - scroll to bottom of page to load all playlists"
   ]
  },
  {
   "cell_type": "code",
   "execution_count": 5,
   "metadata": {},
   "outputs": [],
   "source": [
    "# Find all \"a\" tags with title containing \"Top Songs\"\n",
    "anchor_elements = browser.find_elements(By.XPATH, '//a[contains(@title, \"Top Songs\")]')\n",
    "\n",
    "# Extract hrefs from the anchor elements\n",
    "playlist_hrefs = [elem.get_attribute(\"href\") for elem in anchor_elements]\n",
    "\n",
    "# Close browser\n",
    "browser.close()\n",
    "\n",
    "# extract playlist ids from hrefs\n",
    "playlist_ids = [href.split(\"/\")[-1] for href in playlist_hrefs]"
   ]
  },
  {
   "cell_type": "code",
   "execution_count": 6,
   "metadata": {},
   "outputs": [
    {
     "name": "stdout",
     "output_type": "stream",
     "text": [
      "-- processing playlist: Top Songs - Global --\n",
      "-- processing playlist: Top Songs - Argentina --\n",
      "-- processing playlist: Top Songs - Australia --\n",
      "-- processing playlist: Top Songs - Austria --\n",
      "-- processing playlist: Top Songs - Belarus --\n",
      "-- processing playlist: Top Songs - Belgium --\n",
      "-- processing playlist: Top Songs - Brazil --\n",
      "-- processing playlist: Top Songs - Canada --\n",
      "-- processing playlist: Top Songs - Chile --\n",
      "-- processing playlist: Top Songs - Colombia --\n",
      "-- processing playlist: Top Songs - Czech Republic --\n",
      "-- processing playlist: Top Songs - Denmark --\n",
      "-- processing playlist: Top Songs - Dominican Republic --\n",
      "-- processing playlist: Top Songs - Ecuador --\n",
      "-- processing playlist: Top Songs - Egypt --\n",
      "-- processing playlist: Top Songs - Finland --\n",
      "-- processing playlist: Top Songs - France --\n",
      "-- processing playlist: Top Songs - Germany --\n",
      "-- processing playlist: Top Songs - Guatemala --\n",
      "-- processing playlist: Top Songs - Hong Kong --\n",
      "-- processing playlist: Top Songs - Hungary --\n",
      "-- processing playlist: Top Songs - India --\n",
      "-- processing playlist: Top Songs - Indonesia --\n",
      "-- processing playlist: Top Songs - Ireland --\n",
      "-- processing playlist: Top Songs - Israel --\n",
      "-- processing playlist: Top Songs - Italy --\n",
      "-- processing playlist: Top Songs - Japan --\n",
      "-- processing playlist: Top Songs - Kazakhstan --\n",
      "-- processing playlist: Top Songs - Malaysia --\n",
      "-- processing playlist: Top Songs - Mexico --\n",
      "-- processing playlist: Top Songs - Morocco --\n",
      "-- processing playlist: Top Songs - Netherlands --\n",
      "-- processing playlist: Top Songs - New Zealand --\n",
      "-- processing playlist: Top Songs - Nigeria --\n",
      "-- processing playlist: Top Songs - Norway --\n",
      "-- processing playlist: Top Songs - Pakistan --\n",
      "-- processing playlist: Top Songs - Panama --\n",
      "-- processing playlist: Top Songs - Peru --\n",
      "-- processing playlist: Top Songs - Philippines --\n",
      "-- processing playlist: Top Songs - Poland --\n",
      "-- processing playlist: Top Songs - Romania --\n",
      "-- processing playlist: Top Songs - Saudi Arabia --\n",
      "-- processing playlist: Top Songs - Singapore --\n",
      "-- processing playlist: Top Songs - Slovakia --\n",
      "-- processing playlist: Top Songs - South Africa --\n",
      "-- processing playlist: Top Songs - South Korea --\n",
      "-- processing playlist: Top Songs - Spain --\n",
      "-- processing playlist: Top Songs - Sweden --\n",
      "-- processing playlist: Top Songs - Switzerland --\n",
      "-- processing playlist: Top Songs - Taiwan --\n",
      "-- processing playlist: Top Songs - Thailand --\n",
      "-- processing playlist: Top Songs - Turkey --\n",
      "-- processing playlist: Top Songs - UAE --\n",
      "-- processing playlist: Top Songs - USA --\n",
      "-- processing playlist: Top Songs - Ukraine --\n",
      "-- processing playlist: Top Songs - United Kingdom --\n",
      "-- processing playlist: Top Songs - Venezuela --\n",
      "-- processing playlist: Top Songs - Vietnam --\n"
     ]
    }
   ],
   "source": [
    "all_data_json = []\n",
    "\n",
    "# call api for each playlist\n",
    "for playlist_id in playlist_ids:\n",
    "    playlist_res = sp.playlist(playlist_id=playlist_id)\n",
    "    # keep playlist name\n",
    "    playlist_name = playlist_res[\"name\"]\n",
    "    print(\"-- processing playlist: \" + playlist_name, \"--\")\n",
    "    # extract tracks\n",
    "    playlist_tracks = playlist_res[\"tracks\"][\"items\"]\n",
    "    # loop through tracks\n",
    "    for track in playlist_tracks:\n",
    "        # parse track\n",
    "        track_json = parse_playlist_track(track=track, playlist_id=playlist_id, playlist_name=playlist_name)\n",
    "        # append to list\n",
    "        all_data_json.append(track_json)"
   ]
  },
  {
   "cell_type": "code",
   "execution_count": 18,
   "metadata": {},
   "outputs": [],
   "source": [
    "# # write to file\n",
    "# with open(\"../data/spotify_top_50_playlists.json\", \"w\") as outfile:\n",
    "#     json.dump(all_data_json, outfile)"
   ]
  },
  {
   "cell_type": "code",
   "execution_count": 18,
   "metadata": {},
   "outputs": [
    {
     "data": {
      "text/plain": [
       "2900"
      ]
     },
     "execution_count": 18,
     "metadata": {},
     "output_type": "execute_result"
    }
   ],
   "source": [
    "58 * 50"
   ]
  }
 ],
 "metadata": {
  "kernelspec": {
   "display_name": "spotify-market-popularity-ul7xLCIY-py3.11",
   "language": "python",
   "name": "python3"
  },
  "language_info": {
   "codemirror_mode": {
    "name": "ipython",
    "version": 3
   },
   "file_extension": ".py",
   "mimetype": "text/x-python",
   "name": "python",
   "nbconvert_exporter": "python",
   "pygments_lexer": "ipython3",
   "version": "3.11.1"
  }
 },
 "nbformat": 4,
 "nbformat_minor": 2
}
